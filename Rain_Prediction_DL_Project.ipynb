{
  "nbformat": 4,
  "nbformat_minor": 0,
  "metadata": {
    "colab": {
      "name": "Rain Prediction - DL Project",
      "provenance": [],
      "collapsed_sections": [],
      "authorship_tag": "ABX9TyNwZrJK/jT7k9m/GDgBKoQn",
      "include_colab_link": true
    },
    "kernelspec": {
      "name": "python3",
      "display_name": "Python 3"
    },
    "language_info": {
      "name": "python"
    }
  },
  "cells": [
    {
      "cell_type": "markdown",
      "metadata": {
        "id": "view-in-github",
        "colab_type": "text"
      },
      "source": [
        "<a href=\"https://colab.research.google.com/github/Akshatahadambar/Rain-Prediction/blob/main/Rain_Prediction_DL_Project.ipynb\" target=\"_parent\"><img src=\"https://colab.research.google.com/assets/colab-badge.svg\" alt=\"Open In Colab\"/></a>"
      ]
    },
    {
      "cell_type": "code",
      "metadata": {
        "id": "5HymmOQO7mqA"
      },
      "source": [
        "import numpy as np\n",
        "import pandas as pd\n",
        "import seaborn as snd\n",
        "import matplotlib.pyplot as plt\n",
        "\n",
        "import warnings\n",
        "warnings.filterwarnings(\"ignore\")"
      ],
      "execution_count": null,
      "outputs": []
    },
    {
      "cell_type": "code",
      "metadata": {
        "id": "ytTvJrCrSqlH"
      },
      "source": [
        "df = pd.read_csv(\"/content/weatherAUS.csv\")\n"
      ],
      "execution_count": 11,
      "outputs": []
    },
    {
      "cell_type": "code",
      "metadata": {
        "colab": {
          "base_uri": "https://localhost:8080/",
          "height": 391
        },
        "id": "HWKijwsQS3gr",
        "outputId": "82aeccbd-3e3d-46dd-ae9f-930b26ed6471"
      },
      "source": [
        "df.head()\n"
      ],
      "execution_count": 12,
      "outputs": [
        {
          "output_type": "execute_result",
          "data": {
            "text/html": [
              "<div>\n",
              "<style scoped>\n",
              "    .dataframe tbody tr th:only-of-type {\n",
              "        vertical-align: middle;\n",
              "    }\n",
              "\n",
              "    .dataframe tbody tr th {\n",
              "        vertical-align: top;\n",
              "    }\n",
              "\n",
              "    .dataframe thead th {\n",
              "        text-align: right;\n",
              "    }\n",
              "</style>\n",
              "<table border=\"1\" class=\"dataframe\">\n",
              "  <thead>\n",
              "    <tr style=\"text-align: right;\">\n",
              "      <th></th>\n",
              "      <th>Date</th>\n",
              "      <th>Location</th>\n",
              "      <th>MinTemp</th>\n",
              "      <th>MaxTemp</th>\n",
              "      <th>Rainfall</th>\n",
              "      <th>Evaporation</th>\n",
              "      <th>Sunshine</th>\n",
              "      <th>WindGustDir</th>\n",
              "      <th>WindGustSpeed</th>\n",
              "      <th>WindDir9am</th>\n",
              "      <th>WindDir3pm</th>\n",
              "      <th>WindSpeed9am</th>\n",
              "      <th>WindSpeed3pm</th>\n",
              "      <th>Humidity9am</th>\n",
              "      <th>Humidity3pm</th>\n",
              "      <th>Pressure9am</th>\n",
              "      <th>Pressure3pm</th>\n",
              "      <th>Cloud9am</th>\n",
              "      <th>Cloud3pm</th>\n",
              "      <th>Temp9am</th>\n",
              "      <th>Temp3pm</th>\n",
              "      <th>RainToday</th>\n",
              "      <th>RainTomorrow</th>\n",
              "    </tr>\n",
              "  </thead>\n",
              "  <tbody>\n",
              "    <tr>\n",
              "      <th>0</th>\n",
              "      <td>01-12-2008</td>\n",
              "      <td>Albury</td>\n",
              "      <td>13.4</td>\n",
              "      <td>22.9</td>\n",
              "      <td>0.6</td>\n",
              "      <td>NaN</td>\n",
              "      <td>NaN</td>\n",
              "      <td>W</td>\n",
              "      <td>44.0</td>\n",
              "      <td>W</td>\n",
              "      <td>WNW</td>\n",
              "      <td>20.0</td>\n",
              "      <td>24.0</td>\n",
              "      <td>71.0</td>\n",
              "      <td>22.0</td>\n",
              "      <td>1007.7</td>\n",
              "      <td>1007.1</td>\n",
              "      <td>8.0</td>\n",
              "      <td>NaN</td>\n",
              "      <td>16.9</td>\n",
              "      <td>21.8</td>\n",
              "      <td>No</td>\n",
              "      <td>No</td>\n",
              "    </tr>\n",
              "    <tr>\n",
              "      <th>1</th>\n",
              "      <td>02-12-2008</td>\n",
              "      <td>Albury</td>\n",
              "      <td>7.4</td>\n",
              "      <td>25.1</td>\n",
              "      <td>0.0</td>\n",
              "      <td>NaN</td>\n",
              "      <td>NaN</td>\n",
              "      <td>WNW</td>\n",
              "      <td>44.0</td>\n",
              "      <td>NNW</td>\n",
              "      <td>WSW</td>\n",
              "      <td>4.0</td>\n",
              "      <td>22.0</td>\n",
              "      <td>44.0</td>\n",
              "      <td>25.0</td>\n",
              "      <td>1010.6</td>\n",
              "      <td>1007.8</td>\n",
              "      <td>NaN</td>\n",
              "      <td>NaN</td>\n",
              "      <td>17.2</td>\n",
              "      <td>24.3</td>\n",
              "      <td>No</td>\n",
              "      <td>No</td>\n",
              "    </tr>\n",
              "    <tr>\n",
              "      <th>2</th>\n",
              "      <td>03-12-2008</td>\n",
              "      <td>Albury</td>\n",
              "      <td>12.9</td>\n",
              "      <td>25.7</td>\n",
              "      <td>0.0</td>\n",
              "      <td>NaN</td>\n",
              "      <td>NaN</td>\n",
              "      <td>WSW</td>\n",
              "      <td>46.0</td>\n",
              "      <td>W</td>\n",
              "      <td>WSW</td>\n",
              "      <td>19.0</td>\n",
              "      <td>26.0</td>\n",
              "      <td>38.0</td>\n",
              "      <td>30.0</td>\n",
              "      <td>1007.6</td>\n",
              "      <td>1008.7</td>\n",
              "      <td>NaN</td>\n",
              "      <td>2.0</td>\n",
              "      <td>21.0</td>\n",
              "      <td>23.2</td>\n",
              "      <td>No</td>\n",
              "      <td>No</td>\n",
              "    </tr>\n",
              "    <tr>\n",
              "      <th>3</th>\n",
              "      <td>04-12-2008</td>\n",
              "      <td>Albury</td>\n",
              "      <td>9.2</td>\n",
              "      <td>28.0</td>\n",
              "      <td>0.0</td>\n",
              "      <td>NaN</td>\n",
              "      <td>NaN</td>\n",
              "      <td>NE</td>\n",
              "      <td>24.0</td>\n",
              "      <td>SE</td>\n",
              "      <td>E</td>\n",
              "      <td>11.0</td>\n",
              "      <td>9.0</td>\n",
              "      <td>45.0</td>\n",
              "      <td>16.0</td>\n",
              "      <td>1017.6</td>\n",
              "      <td>1012.8</td>\n",
              "      <td>NaN</td>\n",
              "      <td>NaN</td>\n",
              "      <td>18.1</td>\n",
              "      <td>26.5</td>\n",
              "      <td>No</td>\n",
              "      <td>No</td>\n",
              "    </tr>\n",
              "    <tr>\n",
              "      <th>4</th>\n",
              "      <td>05-12-2008</td>\n",
              "      <td>Albury</td>\n",
              "      <td>17.5</td>\n",
              "      <td>32.3</td>\n",
              "      <td>1.0</td>\n",
              "      <td>NaN</td>\n",
              "      <td>NaN</td>\n",
              "      <td>W</td>\n",
              "      <td>41.0</td>\n",
              "      <td>ENE</td>\n",
              "      <td>NW</td>\n",
              "      <td>7.0</td>\n",
              "      <td>20.0</td>\n",
              "      <td>82.0</td>\n",
              "      <td>33.0</td>\n",
              "      <td>1010.8</td>\n",
              "      <td>1006.0</td>\n",
              "      <td>7.0</td>\n",
              "      <td>8.0</td>\n",
              "      <td>17.8</td>\n",
              "      <td>29.7</td>\n",
              "      <td>No</td>\n",
              "      <td>No</td>\n",
              "    </tr>\n",
              "  </tbody>\n",
              "</table>\n",
              "</div>"
            ],
            "text/plain": [
              "         Date Location  MinTemp  ...  Temp3pm  RainToday RainTomorrow\n",
              "0  01-12-2008   Albury     13.4  ...     21.8         No           No\n",
              "1  02-12-2008   Albury      7.4  ...     24.3         No           No\n",
              "2  03-12-2008   Albury     12.9  ...     23.2         No           No\n",
              "3  04-12-2008   Albury      9.2  ...     26.5         No           No\n",
              "4  05-12-2008   Albury     17.5  ...     29.7         No           No\n",
              "\n",
              "[5 rows x 23 columns]"
            ]
          },
          "metadata": {},
          "execution_count": 12
        }
      ]
    },
    {
      "cell_type": "code",
      "metadata": {
        "id": "G9-Bs0nlS5Ps",
        "colab": {
          "base_uri": "https://localhost:8080/"
        },
        "outputId": "bf0a8045-7191-4a67-dfad-c7ed8da06dff"
      },
      "source": [
        "df.columns\n"
      ],
      "execution_count": 13,
      "outputs": [
        {
          "output_type": "execute_result",
          "data": {
            "text/plain": [
              "Index(['Date', 'Location', 'MinTemp', 'MaxTemp', 'Rainfall', 'Evaporation',\n",
              "       'Sunshine', 'WindGustDir', 'WindGustSpeed', 'WindDir9am', 'WindDir3pm',\n",
              "       'WindSpeed9am', 'WindSpeed3pm', 'Humidity9am', 'Humidity3pm',\n",
              "       'Pressure9am', 'Pressure3pm', 'Cloud9am', 'Cloud3pm', 'Temp9am',\n",
              "       'Temp3pm', 'RainToday', 'RainTomorrow'],\n",
              "      dtype='object')"
            ]
          },
          "metadata": {},
          "execution_count": 13
        }
      ]
    },
    {
      "cell_type": "code",
      "metadata": {
        "colab": {
          "base_uri": "https://localhost:8080/"
        },
        "id": "dIPOmTAlVVb-",
        "outputId": "f2280780-7e76-4608-ad68-bb078598e742"
      },
      "source": [
        "df.info()"
      ],
      "execution_count": 14,
      "outputs": [
        {
          "output_type": "stream",
          "name": "stdout",
          "text": [
            "<class 'pandas.core.frame.DataFrame'>\n",
            "RangeIndex: 32675 entries, 0 to 32674\n",
            "Data columns (total 23 columns):\n",
            " #   Column         Non-Null Count  Dtype  \n",
            "---  ------         --------------  -----  \n",
            " 0   Date           32675 non-null  object \n",
            " 1   Location       32675 non-null  object \n",
            " 2   MinTemp        31834 non-null  float64\n",
            " 3   MaxTemp        32065 non-null  float64\n",
            " 4   Rainfall       31807 non-null  float64\n",
            " 5   Evaporation    10365 non-null  object \n",
            " 6   Sunshine       7367 non-null   object \n",
            " 7   WindGustDir    25494 non-null  object \n",
            " 8   WindGustSpeed  25498 non-null  float64\n",
            " 9   WindDir9am     27737 non-null  object \n",
            " 10  WindDir3pm     29082 non-null  object \n",
            " 11  WindSpeed9am   31332 non-null  float64\n",
            " 12  WindSpeed3pm   29970 non-null  float64\n",
            " 13  Humidity9am    31885 non-null  float64\n",
            " 14  Humidity3pm    30501 non-null  float64\n",
            " 15  Pressure9am    25705 non-null  float64\n",
            " 16  Pressure3pm    25717 non-null  float64\n",
            " 17  Cloud9am       18350 non-null  float64\n",
            " 18  Cloud3pm       17523 non-null  float64\n",
            " 19  Temp9am        32037 non-null  float64\n",
            " 20  Temp3pm        30663 non-null  float64\n",
            " 21  RainToday      31806 non-null  object \n",
            " 22  RainTomorrow   31806 non-null  object \n",
            "dtypes: float64(14), object(9)\n",
            "memory usage: 5.7+ MB\n"
          ]
        }
      ]
    },
    {
      "cell_type": "code",
      "metadata": {
        "id": "yyxZ8Id1VZ-k"
      },
      "source": [
        "df.drop([\"Evaporation\",\"Sunshine\",\"Cloud9am\",\"Cloud3pm\",\"Location\"], \n",
        "        inplace= True, axis =1)\n",
        "df = df.dropna()"
      ],
      "execution_count": 15,
      "outputs": []
    },
    {
      "cell_type": "code",
      "metadata": {
        "colab": {
          "base_uri": "https://localhost:8080/",
          "height": 455
        },
        "id": "_AYlUnHtVmSs",
        "outputId": "be6d7316-5904-487f-edd4-4af5ee082ef1"
      },
      "source": [
        "df.head(6)"
      ],
      "execution_count": 16,
      "outputs": [
        {
          "output_type": "execute_result",
          "data": {
            "text/html": [
              "<div>\n",
              "<style scoped>\n",
              "    .dataframe tbody tr th:only-of-type {\n",
              "        vertical-align: middle;\n",
              "    }\n",
              "\n",
              "    .dataframe tbody tr th {\n",
              "        vertical-align: top;\n",
              "    }\n",
              "\n",
              "    .dataframe thead th {\n",
              "        text-align: right;\n",
              "    }\n",
              "</style>\n",
              "<table border=\"1\" class=\"dataframe\">\n",
              "  <thead>\n",
              "    <tr style=\"text-align: right;\">\n",
              "      <th></th>\n",
              "      <th>Date</th>\n",
              "      <th>MinTemp</th>\n",
              "      <th>MaxTemp</th>\n",
              "      <th>Rainfall</th>\n",
              "      <th>WindGustDir</th>\n",
              "      <th>WindGustSpeed</th>\n",
              "      <th>WindDir9am</th>\n",
              "      <th>WindDir3pm</th>\n",
              "      <th>WindSpeed9am</th>\n",
              "      <th>WindSpeed3pm</th>\n",
              "      <th>Humidity9am</th>\n",
              "      <th>Humidity3pm</th>\n",
              "      <th>Pressure9am</th>\n",
              "      <th>Pressure3pm</th>\n",
              "      <th>Temp9am</th>\n",
              "      <th>Temp3pm</th>\n",
              "      <th>RainToday</th>\n",
              "      <th>RainTomorrow</th>\n",
              "    </tr>\n",
              "  </thead>\n",
              "  <tbody>\n",
              "    <tr>\n",
              "      <th>0</th>\n",
              "      <td>01-12-2008</td>\n",
              "      <td>13.4</td>\n",
              "      <td>22.9</td>\n",
              "      <td>0.6</td>\n",
              "      <td>W</td>\n",
              "      <td>44.0</td>\n",
              "      <td>W</td>\n",
              "      <td>WNW</td>\n",
              "      <td>20.0</td>\n",
              "      <td>24.0</td>\n",
              "      <td>71.0</td>\n",
              "      <td>22.0</td>\n",
              "      <td>1007.7</td>\n",
              "      <td>1007.1</td>\n",
              "      <td>16.9</td>\n",
              "      <td>21.8</td>\n",
              "      <td>No</td>\n",
              "      <td>No</td>\n",
              "    </tr>\n",
              "    <tr>\n",
              "      <th>1</th>\n",
              "      <td>02-12-2008</td>\n",
              "      <td>7.4</td>\n",
              "      <td>25.1</td>\n",
              "      <td>0.0</td>\n",
              "      <td>WNW</td>\n",
              "      <td>44.0</td>\n",
              "      <td>NNW</td>\n",
              "      <td>WSW</td>\n",
              "      <td>4.0</td>\n",
              "      <td>22.0</td>\n",
              "      <td>44.0</td>\n",
              "      <td>25.0</td>\n",
              "      <td>1010.6</td>\n",
              "      <td>1007.8</td>\n",
              "      <td>17.2</td>\n",
              "      <td>24.3</td>\n",
              "      <td>No</td>\n",
              "      <td>No</td>\n",
              "    </tr>\n",
              "    <tr>\n",
              "      <th>2</th>\n",
              "      <td>03-12-2008</td>\n",
              "      <td>12.9</td>\n",
              "      <td>25.7</td>\n",
              "      <td>0.0</td>\n",
              "      <td>WSW</td>\n",
              "      <td>46.0</td>\n",
              "      <td>W</td>\n",
              "      <td>WSW</td>\n",
              "      <td>19.0</td>\n",
              "      <td>26.0</td>\n",
              "      <td>38.0</td>\n",
              "      <td>30.0</td>\n",
              "      <td>1007.6</td>\n",
              "      <td>1008.7</td>\n",
              "      <td>21.0</td>\n",
              "      <td>23.2</td>\n",
              "      <td>No</td>\n",
              "      <td>No</td>\n",
              "    </tr>\n",
              "    <tr>\n",
              "      <th>3</th>\n",
              "      <td>04-12-2008</td>\n",
              "      <td>9.2</td>\n",
              "      <td>28.0</td>\n",
              "      <td>0.0</td>\n",
              "      <td>NE</td>\n",
              "      <td>24.0</td>\n",
              "      <td>SE</td>\n",
              "      <td>E</td>\n",
              "      <td>11.0</td>\n",
              "      <td>9.0</td>\n",
              "      <td>45.0</td>\n",
              "      <td>16.0</td>\n",
              "      <td>1017.6</td>\n",
              "      <td>1012.8</td>\n",
              "      <td>18.1</td>\n",
              "      <td>26.5</td>\n",
              "      <td>No</td>\n",
              "      <td>No</td>\n",
              "    </tr>\n",
              "    <tr>\n",
              "      <th>4</th>\n",
              "      <td>05-12-2008</td>\n",
              "      <td>17.5</td>\n",
              "      <td>32.3</td>\n",
              "      <td>1.0</td>\n",
              "      <td>W</td>\n",
              "      <td>41.0</td>\n",
              "      <td>ENE</td>\n",
              "      <td>NW</td>\n",
              "      <td>7.0</td>\n",
              "      <td>20.0</td>\n",
              "      <td>82.0</td>\n",
              "      <td>33.0</td>\n",
              "      <td>1010.8</td>\n",
              "      <td>1006.0</td>\n",
              "      <td>17.8</td>\n",
              "      <td>29.7</td>\n",
              "      <td>No</td>\n",
              "      <td>No</td>\n",
              "    </tr>\n",
              "    <tr>\n",
              "      <th>5</th>\n",
              "      <td>06-12-2008</td>\n",
              "      <td>14.6</td>\n",
              "      <td>29.7</td>\n",
              "      <td>0.2</td>\n",
              "      <td>WNW</td>\n",
              "      <td>56.0</td>\n",
              "      <td>W</td>\n",
              "      <td>W</td>\n",
              "      <td>19.0</td>\n",
              "      <td>24.0</td>\n",
              "      <td>55.0</td>\n",
              "      <td>23.0</td>\n",
              "      <td>1009.2</td>\n",
              "      <td>1005.4</td>\n",
              "      <td>20.6</td>\n",
              "      <td>28.9</td>\n",
              "      <td>No</td>\n",
              "      <td>No</td>\n",
              "    </tr>\n",
              "  </tbody>\n",
              "</table>\n",
              "</div>"
            ],
            "text/plain": [
              "         Date  MinTemp  MaxTemp  ...  Temp3pm RainToday  RainTomorrow\n",
              "0  01-12-2008     13.4     22.9  ...     21.8        No            No\n",
              "1  02-12-2008      7.4     25.1  ...     24.3        No            No\n",
              "2  03-12-2008     12.9     25.7  ...     23.2        No            No\n",
              "3  04-12-2008      9.2     28.0  ...     26.5        No            No\n",
              "4  05-12-2008     17.5     32.3  ...     29.7        No            No\n",
              "5  06-12-2008     14.6     29.7  ...     28.9        No            No\n",
              "\n",
              "[6 rows x 18 columns]"
            ]
          },
          "metadata": {},
          "execution_count": 16
        }
      ]
    },
    {
      "cell_type": "code",
      "metadata": {
        "id": "I9HMESW-Vp0D"
      },
      "source": [
        "df = df.dropna(axis=0,how=\"any\")"
      ],
      "execution_count": 17,
      "outputs": []
    },
    {
      "cell_type": "code",
      "metadata": {
        "colab": {
          "base_uri": "https://localhost:8080/"
        },
        "id": "p0WRfpe3Vx1J",
        "outputId": "21043b89-7b87-4a17-9c1e-c3cbb1667cf0"
      },
      "source": [
        "X = df.iloc[:, :-1].values\n",
        "y = df.iloc[:, -1].values\n",
        "print(X)\n",
        "print(y)"
      ],
      "execution_count": 18,
      "outputs": [
        {
          "output_type": "stream",
          "name": "stdout",
          "text": [
            "[['01-12-2008' 13.4 22.9 ... 16.9 21.8 'No']\n",
            " ['02-12-2008' 7.4 25.1 ... 17.2 24.3 'No']\n",
            " ['03-12-2008' 12.9 25.7 ... 21.0 23.2 'No']\n",
            " ...\n",
            " ['22-07-2010' 15.5 19.5 ... 17.7 18.3 'Yes']\n",
            " ['23-07-2010' 15.5 18.9 ... 16.9 17.0 'No']\n",
            " ['24-07-2010' 13.9 17.8 ... 15.7 16.5 'No']]\n",
            "['No' 'No' 'No' ... 'No' 'No' 'No']\n"
          ]
        }
      ]
    },
    {
      "cell_type": "code",
      "metadata": {
        "colab": {
          "base_uri": "https://localhost:8080/"
        },
        "id": "crEs5GqhV3ls",
        "outputId": "ec8104da-53b5-449a-e714-167fcfb02d14"
      },
      "source": [
        "X[0]\n"
      ],
      "execution_count": 19,
      "outputs": [
        {
          "output_type": "execute_result",
          "data": {
            "text/plain": [
              "array(['01-12-2008', 13.4, 22.9, 0.6, 'W', 44.0, 'W', 'WNW', 20.0, 24.0,\n",
              "       71.0, 22.0, 1007.7, 1007.1, 16.9, 21.8, 'No'], dtype=object)"
            ]
          },
          "metadata": {},
          "execution_count": 19
        }
      ]
    },
    {
      "cell_type": "code",
      "metadata": {
        "colab": {
          "base_uri": "https://localhost:8080/"
        },
        "id": "E1At5xxJV-n5",
        "outputId": "2fbebfb7-9d0e-4385-94d4-84afc5f68f4c"
      },
      "source": [
        "from sklearn.preprocessing import LabelEncoder\n",
        "le = LabelEncoder()\n",
        "X[:,0] = le.fit_transform(X[:,0])\n",
        "X[:,4] = le.fit_transform(X[:,4])\n",
        "X[:,6] = le.fit_transform(X[:,6])\n",
        "X[:,7] = le.fit_transform(X[:,7])\n",
        "X[:,-1] = le.fit_transform(X[:,-1])\n",
        "y = le.fit_transform(y)\n",
        "print(X[0])"
      ],
      "execution_count": 20,
      "outputs": [
        {
          "output_type": "stream",
          "name": "stdout",
          "text": [
            "[92 13.4 22.9 0.6 13 44.0 13 14 20.0 24.0 71.0 22.0 1007.7 1007.1 16.9\n",
            " 21.8 0]\n"
          ]
        }
      ]
    },
    {
      "cell_type": "code",
      "metadata": {
        "id": "c1Uf_WiEWBtr"
      },
      "source": [
        "y = le.fit_transform(y)\n",
        "import tensorflow as tf"
      ],
      "execution_count": 21,
      "outputs": []
    },
    {
      "cell_type": "code",
      "metadata": {
        "id": "JRDZzvF-WHAu"
      },
      "source": [
        "y = tf.keras.utils.to_categorical(y)"
      ],
      "execution_count": 22,
      "outputs": []
    },
    {
      "cell_type": "code",
      "metadata": {
        "colab": {
          "base_uri": "https://localhost:8080/"
        },
        "id": "O2rqlythWHki",
        "outputId": "a2e05e1d-4253-4503-a82e-f8adf7d1b09d"
      },
      "source": [
        "print(X.shape)\n",
        "print(y.shape)"
      ],
      "execution_count": 23,
      "outputs": [
        {
          "output_type": "stream",
          "name": "stdout",
          "text": [
            "(23025, 17)\n",
            "(23025, 2)\n"
          ]
        }
      ]
    },
    {
      "cell_type": "code",
      "metadata": {
        "id": "0pRpfrLPWJ0t"
      },
      "source": [
        "from sklearn.model_selection import train_test_split\n",
        "X_train, X_test, y_train, y_test = train_test_split(X, y, test_size = 0.2, random_state = 1)"
      ],
      "execution_count": 24,
      "outputs": []
    },
    {
      "cell_type": "code",
      "metadata": {
        "id": "PTgZKWmXWPHp"
      },
      "source": [
        "import numpy as np\n",
        "X_train = np.asarray(X_train).astype(np.float32)\n",
        "X_test = np.asarray(X_test).astype(np.float32)\n",
        "y_train = np.array(y_train)\n",
        "y_test = np.array(y_test)"
      ],
      "execution_count": 27,
      "outputs": []
    },
    {
      "cell_type": "code",
      "metadata": {
        "colab": {
          "base_uri": "https://localhost:8080/"
        },
        "id": "R4kx9PSkWU7j",
        "outputId": "2f9b60cc-7cad-47eb-eeb8-bace7a3fc5c6"
      },
      "source": [
        "X_train.shape"
      ],
      "execution_count": 28,
      "outputs": [
        {
          "output_type": "execute_result",
          "data": {
            "text/plain": [
              "(18420, 17)"
            ]
          },
          "metadata": {},
          "execution_count": 28
        }
      ]
    },
    {
      "cell_type": "code",
      "metadata": {
        "id": "ANM7n8SKWYUq"
      },
      "source": [
        "adam = tf.keras.optimizers.Adam(lr = 1e-4, decay = 1e-4/50)\n",
        "\n",
        "model = tf.keras.models.Sequential()\n",
        "model.add(tf.keras.layers.Input(shape=(17,)))\n",
        "model.add(tf.keras.layers.Dense(units = 1024,\n",
        "                activation = 'relu'))\n",
        "\n",
        "model.add(tf.keras.layers.Dropout(0.1))\n",
        "\n",
        "model.add(tf.keras.layers.Dense(units = 1024/4,\n",
        "                activation = 'relu'))\n",
        "\n",
        "model.add(tf.keras.layers.Dropout(0.1))\n",
        "\n",
        "model.add(tf.keras.layers.Dense(units = 64,\n",
        "                activation = 'relu'))\n",
        "\n",
        "model.add(tf.keras.layers.Dense(units = 2,\n",
        "                activation = 'sigmoid'))\n",
        "\n",
        "model.compile(optimizer=adam, \n",
        "              loss = 'binary_crossentropy', \n",
        "              metrics = ['acc'])"
      ],
      "execution_count": 29,
      "outputs": []
    },
    {
      "cell_type": "code",
      "metadata": {
        "colab": {
          "base_uri": "https://localhost:8080/"
        },
        "id": "2oocSvzBWj4_",
        "outputId": "367b9ed0-8dcc-495f-f0aa-dfd7c58fbc29"
      },
      "source": [
        "model.summary()"
      ],
      "execution_count": 30,
      "outputs": [
        {
          "output_type": "stream",
          "name": "stdout",
          "text": [
            "Model: \"sequential\"\n",
            "_________________________________________________________________\n",
            "Layer (type)                 Output Shape              Param #   \n",
            "=================================================================\n",
            "dense (Dense)                (None, 1024)              18432     \n",
            "_________________________________________________________________\n",
            "dropout (Dropout)            (None, 1024)              0         \n",
            "_________________________________________________________________\n",
            "dense_1 (Dense)              (None, 256)               262400    \n",
            "_________________________________________________________________\n",
            "dropout_1 (Dropout)          (None, 256)               0         \n",
            "_________________________________________________________________\n",
            "dense_2 (Dense)              (None, 64)                16448     \n",
            "_________________________________________________________________\n",
            "dense_3 (Dense)              (None, 2)                 130       \n",
            "=================================================================\n",
            "Total params: 297,410\n",
            "Trainable params: 297,410\n",
            "Non-trainable params: 0\n",
            "_________________________________________________________________\n"
          ]
        }
      ]
    },
    {
      "cell_type": "code",
      "metadata": {
        "colab": {
          "base_uri": "https://localhost:8080/"
        },
        "id": "qNgNHVWeWnUl",
        "outputId": "8347a9c4-1238-40ea-e63b-a2e9992f234c"
      },
      "source": [
        "model.fit(X_train, y_train, \n",
        "          validation_data=(X_test, y_test), epochs = 50)"
      ],
      "execution_count": 31,
      "outputs": [
        {
          "output_type": "stream",
          "name": "stdout",
          "text": [
            "Epoch 1/50\n",
            "576/576 [==============================] - 6s 9ms/step - loss: 2.2588 - acc: 0.7649 - val_loss: 0.5296 - val_acc: 0.7831\n",
            "Epoch 2/50\n",
            "576/576 [==============================] - 5s 9ms/step - loss: 0.5563 - acc: 0.7867 - val_loss: 0.5175 - val_acc: 0.7831\n",
            "Epoch 3/50\n",
            "576/576 [==============================] - 5s 9ms/step - loss: 0.5282 - acc: 0.7879 - val_loss: 0.5138 - val_acc: 0.7831\n",
            "Epoch 4/50\n",
            "576/576 [==============================] - 5s 9ms/step - loss: 0.5136 - acc: 0.7887 - val_loss: 0.4994 - val_acc: 0.7831\n",
            "Epoch 5/50\n",
            "576/576 [==============================] - 5s 9ms/step - loss: 0.4918 - acc: 0.7888 - val_loss: 0.4510 - val_acc: 0.7831\n",
            "Epoch 6/50\n",
            "576/576 [==============================] - 5s 9ms/step - loss: 0.4519 - acc: 0.7892 - val_loss: 0.4115 - val_acc: 0.7831\n",
            "Epoch 7/50\n",
            "576/576 [==============================] - 5s 9ms/step - loss: 0.4296 - acc: 0.7895 - val_loss: 0.4156 - val_acc: 0.7831\n",
            "Epoch 8/50\n",
            "576/576 [==============================] - 5s 9ms/step - loss: 0.4159 - acc: 0.7982 - val_loss: 0.3974 - val_acc: 0.8308\n",
            "Epoch 9/50\n",
            "576/576 [==============================] - 5s 9ms/step - loss: 0.4101 - acc: 0.8230 - val_loss: 0.4172 - val_acc: 0.8156\n",
            "Epoch 10/50\n",
            "576/576 [==============================] - 5s 9ms/step - loss: 0.4005 - acc: 0.8258 - val_loss: 0.3942 - val_acc: 0.8317\n",
            "Epoch 11/50\n",
            "576/576 [==============================] - 5s 9ms/step - loss: 0.3998 - acc: 0.8262 - val_loss: 0.3904 - val_acc: 0.8293\n",
            "Epoch 12/50\n",
            "576/576 [==============================] - 5s 9ms/step - loss: 0.3965 - acc: 0.8278 - val_loss: 0.3851 - val_acc: 0.8250\n",
            "Epoch 13/50\n",
            "576/576 [==============================] - 5s 9ms/step - loss: 0.3884 - acc: 0.8284 - val_loss: 0.4000 - val_acc: 0.8280\n",
            "Epoch 14/50\n",
            "576/576 [==============================] - 5s 9ms/step - loss: 0.3837 - acc: 0.8338 - val_loss: 0.3886 - val_acc: 0.8324\n",
            "Epoch 15/50\n",
            "576/576 [==============================] - 5s 9ms/step - loss: 0.3801 - acc: 0.8352 - val_loss: 0.3776 - val_acc: 0.8360\n",
            "Epoch 16/50\n",
            "576/576 [==============================] - 5s 9ms/step - loss: 0.3788 - acc: 0.8358 - val_loss: 0.3763 - val_acc: 0.8365\n",
            "Epoch 17/50\n",
            "576/576 [==============================] - 5s 9ms/step - loss: 0.3757 - acc: 0.8407 - val_loss: 0.3743 - val_acc: 0.8380\n",
            "Epoch 18/50\n",
            "576/576 [==============================] - 5s 9ms/step - loss: 0.3755 - acc: 0.8385 - val_loss: 0.3820 - val_acc: 0.8337\n",
            "Epoch 19/50\n",
            "576/576 [==============================] - 5s 9ms/step - loss: 0.3707 - acc: 0.8411 - val_loss: 0.3811 - val_acc: 0.8360\n",
            "Epoch 20/50\n",
            "576/576 [==============================] - 5s 9ms/step - loss: 0.3710 - acc: 0.8407 - val_loss: 0.3779 - val_acc: 0.8321\n",
            "Epoch 21/50\n",
            "576/576 [==============================] - 5s 9ms/step - loss: 0.3702 - acc: 0.8415 - val_loss: 0.3742 - val_acc: 0.8363\n",
            "Epoch 22/50\n",
            "576/576 [==============================] - 5s 9ms/step - loss: 0.3692 - acc: 0.8436 - val_loss: 0.3700 - val_acc: 0.8367\n",
            "Epoch 23/50\n",
            "576/576 [==============================] - 5s 9ms/step - loss: 0.3658 - acc: 0.8456 - val_loss: 0.3706 - val_acc: 0.8380\n",
            "Epoch 24/50\n",
            "576/576 [==============================] - 5s 9ms/step - loss: 0.3660 - acc: 0.8446 - val_loss: 0.3726 - val_acc: 0.8404\n",
            "Epoch 25/50\n",
            "576/576 [==============================] - 5s 9ms/step - loss: 0.3643 - acc: 0.8473 - val_loss: 0.3683 - val_acc: 0.8358\n",
            "Epoch 26/50\n",
            "576/576 [==============================] - 5s 9ms/step - loss: 0.3638 - acc: 0.8470 - val_loss: 0.3678 - val_acc: 0.8402\n",
            "Epoch 27/50\n",
            "576/576 [==============================] - 5s 9ms/step - loss: 0.3628 - acc: 0.8471 - val_loss: 0.3705 - val_acc: 0.8391\n",
            "Epoch 28/50\n",
            "576/576 [==============================] - 5s 9ms/step - loss: 0.3629 - acc: 0.8467 - val_loss: 0.3674 - val_acc: 0.8389\n",
            "Epoch 29/50\n",
            "576/576 [==============================] - 5s 9ms/step - loss: 0.3622 - acc: 0.8475 - val_loss: 0.3678 - val_acc: 0.8397\n",
            "Epoch 30/50\n",
            "576/576 [==============================] - 5s 9ms/step - loss: 0.3603 - acc: 0.8461 - val_loss: 0.3662 - val_acc: 0.8432\n",
            "Epoch 31/50\n",
            "576/576 [==============================] - 5s 9ms/step - loss: 0.3613 - acc: 0.8472 - val_loss: 0.3693 - val_acc: 0.8417\n",
            "Epoch 32/50\n",
            "576/576 [==============================] - 5s 9ms/step - loss: 0.3609 - acc: 0.8461 - val_loss: 0.3620 - val_acc: 0.8408\n",
            "Epoch 33/50\n",
            "576/576 [==============================] - 5s 9ms/step - loss: 0.3603 - acc: 0.8466 - val_loss: 0.3622 - val_acc: 0.8413\n",
            "Epoch 34/50\n",
            "576/576 [==============================] - 5s 9ms/step - loss: 0.3577 - acc: 0.8486 - val_loss: 0.3616 - val_acc: 0.8434\n",
            "Epoch 35/50\n",
            "576/576 [==============================] - 5s 9ms/step - loss: 0.3575 - acc: 0.8486 - val_loss: 0.3609 - val_acc: 0.8402\n",
            "Epoch 36/50\n",
            "576/576 [==============================] - 5s 9ms/step - loss: 0.3571 - acc: 0.8476 - val_loss: 0.3598 - val_acc: 0.8404\n",
            "Epoch 37/50\n",
            "576/576 [==============================] - 5s 9ms/step - loss: 0.3566 - acc: 0.8487 - val_loss: 0.3704 - val_acc: 0.8410\n",
            "Epoch 38/50\n",
            "576/576 [==============================] - 6s 10ms/step - loss: 0.3558 - acc: 0.8499 - val_loss: 0.3668 - val_acc: 0.8423\n",
            "Epoch 39/50\n",
            "576/576 [==============================] - 5s 10ms/step - loss: 0.3568 - acc: 0.8479 - val_loss: 0.3616 - val_acc: 0.8436\n",
            "Epoch 40/50\n",
            "576/576 [==============================] - 5s 9ms/step - loss: 0.3541 - acc: 0.8490 - val_loss: 0.3615 - val_acc: 0.8430\n",
            "Epoch 41/50\n",
            "576/576 [==============================] - 5s 9ms/step - loss: 0.3554 - acc: 0.8507 - val_loss: 0.3600 - val_acc: 0.8445\n",
            "Epoch 42/50\n",
            "576/576 [==============================] - 5s 9ms/step - loss: 0.3542 - acc: 0.8499 - val_loss: 0.3591 - val_acc: 0.8430\n",
            "Epoch 43/50\n",
            "576/576 [==============================] - 5s 9ms/step - loss: 0.3542 - acc: 0.8514 - val_loss: 0.3585 - val_acc: 0.8445\n",
            "Epoch 44/50\n",
            "576/576 [==============================] - 5s 9ms/step - loss: 0.3537 - acc: 0.8484 - val_loss: 0.3610 - val_acc: 0.8426\n",
            "Epoch 45/50\n",
            "576/576 [==============================] - 5s 9ms/step - loss: 0.3537 - acc: 0.8499 - val_loss: 0.3580 - val_acc: 0.8430\n",
            "Epoch 46/50\n",
            "576/576 [==============================] - 5s 9ms/step - loss: 0.3533 - acc: 0.8508 - val_loss: 0.3592 - val_acc: 0.8434\n",
            "Epoch 47/50\n",
            "576/576 [==============================] - 5s 9ms/step - loss: 0.3529 - acc: 0.8517 - val_loss: 0.3594 - val_acc: 0.8456\n",
            "Epoch 48/50\n",
            "576/576 [==============================] - 5s 9ms/step - loss: 0.3527 - acc: 0.8499 - val_loss: 0.3635 - val_acc: 0.8415\n",
            "Epoch 49/50\n",
            "576/576 [==============================] - 6s 10ms/step - loss: 0.3522 - acc: 0.8512 - val_loss: 0.3582 - val_acc: 0.8419\n",
            "Epoch 50/50\n",
            "576/576 [==============================] - 5s 9ms/step - loss: 0.3510 - acc: 0.8524 - val_loss: 0.3779 - val_acc: 0.8363\n"
          ]
        },
        {
          "output_type": "execute_result",
          "data": {
            "text/plain": [
              "<keras.callbacks.History at 0x7f6d663231d0>"
            ]
          },
          "metadata": {},
          "execution_count": 31
        }
      ]
    },
    {
      "cell_type": "code",
      "metadata": {
        "id": "gRr64nfgWriI"
      },
      "source": [
        ""
      ],
      "execution_count": null,
      "outputs": []
    }
  ]
}